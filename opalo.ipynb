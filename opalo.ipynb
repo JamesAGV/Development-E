{
  "nbformat": 4,
  "nbformat_minor": 0,
  "metadata": {
    "colab": {
      "provenance": [],
      "authorship_tag": "ABX9TyMkjkVojdj5SvbV1OUsmbsx",
      "include_colab_link": true
    },
    "kernelspec": {
      "name": "python3",
      "display_name": "Python 3"
    },
    "language_info": {
      "name": "python"
    }
  },
  "cells": [
    {
      "cell_type": "markdown",
      "metadata": {
        "id": "view-in-github",
        "colab_type": "text"
      },
      "source": [
        "<a href=\"https://colab.research.google.com/github/JamesAGV/Development-E/blob/main/opalo.ipynb\" target=\"_parent\"><img src=\"https://colab.research.google.com/assets/colab-badge.svg\" alt=\"Open In Colab\"/></a>"
      ]
    },
    {
      "cell_type": "markdown",
      "source": [
        "#**Desarrollo OPALO**"
      ],
      "metadata": {
        "id": "-dEgTEPSnS2F"
      }
    },
    {
      "cell_type": "markdown",
      "source": [
        "## **Instalación de paquetes**"
      ],
      "metadata": {
        "id": "-yPgjJa6mOF9"
      }
    },
    {
      "cell_type": "code",
      "source": [
        "#driver de comunicación con SQL Server\n",
        "!pip install pyodbc \n",
        "#driver de comunicación S7-conncection\n",
        "!pip install python-snap7 "
      ],
      "metadata": {
        "colab": {
          "base_uri": "https://localhost:8080/"
        },
        "id": "O05Yw_o9lbY-",
        "outputId": "fac97e5e-4177-445f-d537-fdb5783d046e"
      },
      "execution_count": 6,
      "outputs": [
        {
          "output_type": "stream",
          "name": "stdout",
          "text": [
            "Looking in indexes: https://pypi.org/simple, https://us-python.pkg.dev/colab-wheels/public/simple/\n",
            "Requirement already satisfied: pyodbc in /usr/local/lib/python3.10/dist-packages (4.0.39)\n",
            "Looking in indexes: https://pypi.org/simple, https://us-python.pkg.dev/colab-wheels/public/simple/\n",
            "Collecting python-snap7\n",
            "  Downloading python_snap7-1.3-py3-none-manylinux1_x86_64.whl (137 kB)\n",
            "\u001b[2K     \u001b[90m━━━━━━━━━━━━━━━━━━━━━━━━━━━━━━━━━━━━━━━\u001b[0m \u001b[32m138.0/138.0 kB\u001b[0m \u001b[31m3.1 MB/s\u001b[0m eta \u001b[36m0:00:00\u001b[0m\n",
            "\u001b[?25hInstalling collected packages: python-snap7\n",
            "Successfully installed python-snap7-1.3\n"
          ]
        }
      ]
    },
    {
      "cell_type": "markdown",
      "source": [
        "## **Importación de librerías**"
      ],
      "metadata": {
        "id": "CUQ2jcpvm6Ss"
      }
    },
    {
      "cell_type": "code",
      "execution_count": 9,
      "metadata": {
        "id": "pkbzX8mxlA_J"
      },
      "outputs": [],
      "source": [
        "from sqlite3 import OperationalError\n",
        "import pyodbc\n",
        "import numpy as np\n",
        "import snap7\n",
        "from time import sleep\n",
        "import csv\n",
        "from datetime import datetime\n",
        "import struct\n",
        "import sys"
      ]
    },
    {
      "cell_type": "markdown",
      "source": [
        "## **Script**"
      ],
      "metadata": {
        "id": "HuCBMEW4nBXs"
      }
    },
    {
      "cell_type": "code",
      "source": [
        "class comm:\n",
        "  def __init__(self, syn_offset_container, syn_offset_new_container, syn_offset_i_stack, db_data, bytes_buffer, offset_estado_plc, db_syn, server, database, username, password, ip_plc, rack, slot, tabla_rce, buffer_size, route_log, container_bytes):\n",
        "      \n",
        "    self.server = server\n",
        "    self.database = database\n",
        "    self.username = username\n",
        "    self.password = password\n",
        "    self.ip_plc = ip_plc\n",
        "    self.rack = rack\n",
        "    self.slot = slot\n",
        "    self.db_syn = db_syn\n",
        "    self.syn_offset_container = syn_offset_container\n",
        "    self.syn_offset_new_container = syn_offset_new_container\n",
        "    self.syn_offset_i_stack = syn_offset_i_stack\n",
        "    self.container_bytes = container_bytes\n",
        "    self.buffer_size = buffer_size\n",
        "    self.db_data = db_data\n",
        "    self.bytes_buffer = bytes_buffer\n",
        "    self.tabla_rce = tabla_rce\n",
        "    self.offset_estado_plc = offset_estado_plc\n",
        "    self.route_log = route_log \n",
        "\n",
        "  def log(self, message):\n",
        "    with open(self.route_log, 'a', newline='') as file:\n",
        "      writer = csv.writer(file)\n",
        "      writer.writerow([datetime.now(), message])\n",
        "\n",
        "  def test_connection_plc(self):\n",
        "    return self.client.get_cpu_state() != 'S7CpuStatusUnknown'\n",
        "\n",
        "  def connect_plc(self):\n",
        "    #self.log(message=f'Control {self.control}: Inicio de conexión con el PLC')\n",
        "    self.client = snap7.client.Client()\n",
        "    try:\n",
        "      self.client.connect(self.ip_plc, self.rack, self.slot)\n",
        "    except snap7.exceptions.Snap7Exception as e:\n",
        "      # Error genérico de Snap7\n",
        "      #pass\n",
        "      self.log(message=f'Conexión fallida con PLC. Error: {e}')\n",
        "    else:\n",
        "      if self.test_connection_plc():\n",
        "        self.log(message='Conexión exitosa con PLC')\n",
        "\n",
        "  def disconnect_plc(self):\n",
        "    self.client.disconnect()\n",
        "\n",
        "  def reconnect_plc(self):\n",
        "    while not self.test_connection_plc():\n",
        "      sleep(1)\n",
        "      self.log(message='Reconexión con PLC')\n",
        "      self.connect_plc()    \n",
        "\n",
        "  def read_bytes_from_plc(self, db, offset, num_bytes):     \n",
        "    try:\n",
        "      return self.client.db_read(db, offset, num_bytes)    \n",
        "    except snap7.exceptions.Snap7Exception as e:\n",
        "      self.log(message=f'Error leyendo bytes desde PLC: {e}')\n",
        "\n",
        "  def write_bytes_to_plc(self, db, offset, bytes):\n",
        "    try:\n",
        "      self.client.db_write(db, offset, bytes)\n",
        "    except snap7.exceptions.Snap7Exception as e:\n",
        "      self.log(message=f'Error escribiendo bytes en el PLC: {e}')\n",
        "\n",
        "  def get_new_container(self):\n",
        "      return self.read_bytes_from_plc(db=self.db_syn, offset=self.syn_offset_new_container, num_bytes=1) == b'\\x01'\n",
        "\n",
        "  def set_new_container(self):\n",
        "      self.write_bytes_to_plc(db=self.db_syn, offset=self.syn_offset_new_container, bytes=b'\\x00')\n",
        "\n",
        "  def get_container(self):\n",
        "      bytes_container = self.read_bytes_from_plc(db=self.db_syn, offset=self.syn_offset_container, num_bytes=self.container_bytes)\n",
        "      return int.from_bytes(bytes(bytes_container), byteorder='big', signed=False)\n",
        "\n",
        "  def get_i_stack(self):\n",
        "      i_stack_byte = self.read_bytes_from_plc(db=self.db_syn, offset=self.syn_offset_i_stack, num_bytes=1)\n",
        "      i_stack = int.from_bytes(i_stack_byte, byteorder='big', signed=False)\n",
        "      i_stack_next = (i_stack + 1) % self.buffer_size\n",
        "      self.write_bytes_to_plc(db=self.db_syn, offset=self.syn_offset_i_stack, bytes=i_stack_next.to_bytes(1, sys.byteorder))   \n",
        "      return i_stack\n",
        "\n",
        "  def connect_database(self):\n",
        "      try:\n",
        "          self.con = pyodbc.connect('DRIVER={SQL Server};SERVER=' + self.server + ';DATABASE=' + self.database + ';UID=' + self.username + ';PWD=' + self.password)\n",
        "          self.cursor = self.con.cursor()\n",
        "          self.log(message='Conexión exitosa con la base de datos')\n",
        "      except pyodbc.Error as e:\n",
        "          self.log(message=f'Error de conexión con la base de datos: {e}')"
      ],
      "metadata": {
        "id": "cv3ThaQhnoo8"
      },
      "execution_count": 14,
      "outputs": []
    }
  ]
}